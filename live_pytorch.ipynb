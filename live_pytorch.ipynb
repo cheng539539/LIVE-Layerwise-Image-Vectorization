{
  "nbformat": 4,
  "nbformat_minor": 0,
  "metadata": {
    "colab": {
      "private_outputs": true,
      "provenance": []
    },
    "kernelspec": {
      "name": "python3",
      "display_name": "Python 3"
    },
    "language_info": {
      "name": "python"
    },
    "accelerator": "GPU"
  },
  "cells": [
    {
      "cell_type": "code",
      "execution_count": null,
      "metadata": {
        "id": "y96g-_lNcVtY"
      },
      "outputs": [],
      "source": [
        "!git clone https://github.com/ma-xu/LIVE.git\n",
        "%cd LIVE\n"
      ]
    },
    {
      "cell_type": "code",
      "source": [
        "# change gcc version to 5.5\n",
        "!apt-get install -qq gcc-5 g++-5 -y\n",
        "!ln -s /usr/bin/gcc-5 /usr/local/cuda/bin/gcc;\n",
        "!ln -s /usr/bin/g++-5 /usr/local/cuda/bin/g++;\n",
        "# !sudo apt-get update\n",
        "# !sudo apt-get upgrade\n",
        "!gcc -v # ensure gcc version is 5.5"
      ],
      "metadata": {
        "id": "2Bkp1S5wEDEo"
      },
      "execution_count": null,
      "outputs": []
    },
    {
      "cell_type": "code",
      "source": [
        "# remove tensorflow for install\n",
        "!pip3 uninstall tensorflow -y\n",
        "# install required libs\n",
        "# !pip install torch==1.9.0+cu111 torchtext==0.10.0 torchvision==0.10.0+cu111 -f https://download.pytorch.org/whl/torch/ -f https://download.pytorch.org/whl/torchvision/\n",
        "# !pip install torch==1.7.0+cu110 torchvision==0.8.1+cu110 -f https://download.pytorch.org/whl/torch_stable.html\n",
        "!pip3 install svgwrite svgpathtools cssutils numba torch-tools scikit-fmm easydict visdom\n",
        "!pip3 install numpy scikit-image ffmpeg opencv-python==4.5.4.60\n",
        "!pip3 install cmake==3.18.2\n",
        "!pip uninstall imgaug -y && pip uninstall albumentations -y && pip install git+https://github.com/aleju/imgaug.git -y\n",
        "!pip3 install -U PyYAML"
      ],
      "metadata": {
        "id": "DE6tkjYulAo4"
      },
      "execution_count": null,
      "outputs": []
    },
    {
      "cell_type": "code",
      "source": [
        "# install diffvg\n",
        "%cd DiffVG\n",
        "import torch\n",
        "import os\n",
        "gpu_name = torch.cuda.get_device_name(0)\n",
        "print(gpu_name)\n",
        "if \"K80\" in gpu_name:\n",
        "  replace_str = 's/set(CUDA_NVCC_FLAGS \"\\${CUDA_NVCC_FLAGS} -std=c++11\")/set(CUDA_NVCC_FLAGS \"\\${CUDA_NVCC_FLAGS} -std=c++14 -gencode=arch=compute_37,code=sm_37\")/gi'\n",
        "  replace_str = \"sed -i '\"+replace_str+ \"' CMakeLists.txt\"\n",
        "  os.system(replace_str)\n",
        "  print(\"change cmake for K80\")\n",
        "elif \"T4\" in gpu_name:\n",
        "  replace_str = 's/set(CUDA_NVCC_FLAGS \"\\${CUDA_NVCC_FLAGS} -std=c++11\")/set(CUDA_NVCC_FLAGS \"\\${CUDA_NVCC_FLAGS} -std=c++14 -gencode=arch=compute_75,code=sm_75\")/gi'\n",
        "  replace_str = \"sed -i '\"+replace_str+ \"' CMakeLists.txt\"\n",
        "  os.system(replace_str)\n",
        "  print(\"change cmake for T4\")\n"
      ],
      "metadata": {
        "id": "JsXWeztWxmU2"
      },
      "execution_count": null,
      "outputs": []
    },
    {
      "cell_type": "code",
      "source": [
        "\n",
        "!sudo apt-get install -y libsdl2-image-dev\n",
        "!git submodule update --init --recursive\n",
        "!python3 setup.py install\n",
        "%cd .."
      ],
      "metadata": {
        "id": "JtPEAqx2n9VE"
      },
      "execution_count": null,
      "outputs": []
    },
    {
      "cell_type": "code",
      "source": [
        "# run demo\n",
        "%cd LIVE\n",
        "!python main.py --config config/base.yaml --debug --experiment experiment_5x1 --signature smile --target figures/smile.png --log_dir log/\n"
      ],
      "metadata": {
        "id": "bxNjg9gaGtYJ"
      },
      "execution_count": null,
      "outputs": []
    },
    {
      "cell_type": "code",
      "source": [
        "from moviepy.editor import *\n",
        "from os import listdir\n",
        "from os.path import isfile, join\n",
        "import ipywidgets as widgets\n",
        "video_avi_path = \"./log/999999999999_smile/video-avi/\"\n",
        "onlyfiles = [f for f in listdir(video_avi_path) if isfile(join(video_avi_path, f))]\n",
        "onlyfiles.sort()\n",
        "onlyfiles.reverse()\n",
        "print(onlyfiles)\n",
        "print(f\"The last video {onlyfiles[-1]} is:\")\n",
        "print(f\"\\nThe log files are saved to log folder.\\n\")\n",
        "clip=VideoFileClip(os.path.join(video_avi_path, onlyfiles[-1]))\n",
        "clip.ipython_display(width=280)\n",
        "\n",
        "\n",
        "\n"
      ],
      "metadata": {
        "id": "0aBBsYF3m0FQ"
      },
      "execution_count": null,
      "outputs": []
    },
    {
      "cell_type": "code",
      "source": [
        "!git pull\n",
        "!pwd"
      ],
      "metadata": {
        "id": "EJ1E4kcEyi_g"
      },
      "execution_count": null,
      "outputs": []
    },
    {
      "cell_type": "code",
      "source": [
        "\n",
        "import sys\n",
        "sys.path.append(\"/usr/local/lib/python3.7/dist-packages/diffvg-0.0.1-py3.7-linux-x86_64.egg\")"
      ],
      "metadata": {
        "id": "8z-yzdX2t2s6"
      },
      "execution_count": null,
      "outputs": []
    },
    {
      "cell_type": "code",
      "source": [
        "# sys.path.append('/content/LIVE/LIVE')\n",
        "def parse_args():\n",
        "    parser = argparse.ArgumentParser()\n",
        "    parser.add_argument('--debug', action='store_true', default=True)\n",
        "    parser.add_argument(\"--config\", default=\"config/base.yaml\", type=str)\n",
        "    parser.add_argument(\"--experiment\", default=\"experiment_5x1\", type=str)\n",
        "    parser.add_argument(\"--seed\", type=int)\n",
        "    parser.add_argument(\"--target\", type=str, default=\"figures/smile.png\", help=\"target image path\")\n",
        "    parser.add_argument('--log_dir', metavar='DIR', default=\"log\")\n",
        "    parser.add_argument('--initial', type=str, default=\"random\", choices=['random', 'circle'])\n",
        "    parser.add_argument('--signature', default=\"smile\", nargs='+', type=str)\n",
        "    parser.add_argument('--seginit', nargs='+', type=str)\n",
        "    parser.add_argument(\"--num_segments\", type=int, default=4)\n",
        "    cfg = edict()\n",
        "    args = parser.parse_args()\n",
        "    cfg.debug = args.debug\n",
        "    cfg.config = args.config\n",
        "    cfg.experiment = args.experiment\n",
        "    cfg.seed = args.seed\n",
        "    cfg.target = args.target\n",
        "    cfg.log_dir = args.log_dir\n",
        "    cfg.initial = args.initial\n",
        "    cfg.signature = args.signature\n",
        "    # set cfg num_segments in command\n",
        "    cfg.num_segments = args.num_segments\n",
        "    if args.seginit is not None:\n",
        "        cfg.seginit = edict()\n",
        "        cfg.seginit.type = args.seginit[0]\n",
        "        if cfg.seginit.type == 'circle':\n",
        "            cfg.seginit.radius = float(args.seginit[1])\n",
        "    return cfg\n",
        "\n",
        "%cd LIVE\n",
        "%load main_colab.py\n",
        "from main_colab import main_func\n",
        "\n"
      ],
      "metadata": {
        "id": "d5HX3oa8wI6W"
      },
      "execution_count": null,
      "outputs": []
    },
    {
      "cell_type": "code",
      "source": [
        "main_func() "
      ],
      "metadata": {
        "id": "Jji9cTSuxrCU"
      },
      "execution_count": null,
      "outputs": []
    },
    {
      "cell_type": "code",
      "source": [
        "%tb "
      ],
      "metadata": {
        "id": "m1c3uFM88aFL"
      },
      "execution_count": null,
      "outputs": []
    }
  ]
}